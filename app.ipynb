{
 "cells": [
  {
   "cell_type": "markdown",
   "id": "e000b699",
   "metadata": {},
   "source": [
    "# Central Limit Theorem — Interactive (Voilà)"
   ]
  },
  {
   "cell_type": "code",
   "execution_count": null,
   "id": "ef29ff1e",
   "metadata": {},
   "outputs": [],
   "source": [
    "import clt_demo\n",
    "clt_demo.clt_interactive()"
   ]
  }
 ],
 "metadata": {
  "kernelspec": {
   "display_name": "Python 3",
   "name": "python3"
  },
  "language_info": {
   "name": "python",
   "pygments_lexer": "ipython3"
  }
 },
 "nbformat": 4,
 "nbformat_minor": 5
}
